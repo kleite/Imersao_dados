{
  "nbformat": 4,
  "nbformat_minor": 0,
  "metadata": {
    "colab": {
      "name": "Imersao_dados.ipynb",
      "provenance": [],
      "authorship_tag": "ABX9TyMV4cYn2zEOL6Aq8grq+Y9/",
      "include_colab_link": true
    },
    "kernelspec": {
      "name": "python3",
      "display_name": "Python 3"
    }
  },
  "cells": [
    {
      "cell_type": "markdown",
      "metadata": {
        "id": "view-in-github",
        "colab_type": "text"
      },
      "source": [
        "<a href=\"https://colab.research.google.com/github/kleite/Imersao_dados/blob/main/Imersao_dados.ipynb\" target=\"_parent\"><img src=\"https://colab.research.google.com/assets/colab-badge.svg\" alt=\"Open In Colab\"/></a>"
      ]
    },
    {
      "cell_type": "markdown",
      "metadata": {
        "id": "9Zm8s2RUzvut"
      },
      "source": [
        "# 0.0 Imports"
      ]
    },
    {
      "cell_type": "code",
      "metadata": {
        "id": "G2zURtwXz8Kz"
      },
      "source": [
        "import pandas as pd\n",
        "import matplotlib.pyplot as plt\n",
        "import seaborn as sns\n",
        "import numpy as np"
      ],
      "execution_count": 2,
      "outputs": []
    },
    {
      "cell_type": "markdown",
      "metadata": {
        "id": "g7XcZaMqzyts"
      },
      "source": [
        "# 1.0 Abertura do arquivo"
      ]
    },
    {
      "cell_type": "code",
      "metadata": {
        "id": "4m8TeLHQzqo2"
      },
      "source": [
        ""
      ],
      "execution_count": null,
      "outputs": []
    },
    {
      "cell_type": "markdown",
      "metadata": {
        "id": "l92-Z4HS0Jj0"
      },
      "source": [
        "# 2.0 Descriçao dos dados"
      ]
    },
    {
      "cell_type": "markdown",
      "metadata": {
        "id": "xpWU9ht20RWE"
      },
      "source": [
        "# 3.0 Feature engineering"
      ]
    },
    {
      "cell_type": "code",
      "metadata": {
        "id": "PNaBlL_B0Q25"
      },
      "source": [
        ""
      ],
      "execution_count": null,
      "outputs": []
    }
  ]
}